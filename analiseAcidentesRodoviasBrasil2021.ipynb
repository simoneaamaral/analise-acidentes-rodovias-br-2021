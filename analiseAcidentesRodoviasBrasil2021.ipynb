{
 "cells": [
  {
   "cell_type": "code",
   "execution_count": null,
   "id": "ddbebf78",
   "metadata": {},
   "outputs": [],
   "source": [
    "# importando a biblioteca pandas \n",
    "import pandas as pd"
   ]
  },
  {
   "cell_type": "code",
   "execution_count": null,
   "id": "87b6d271",
   "metadata": {
    "scrolled": true
   },
   "outputs": [],
   "source": [
    "# abrindo o dataset\n",
    "df = pd.read_csv('acidentes2021_todas_causas_tipos.csv', sep=';' , encoding='latin-1')\n",
    "pd.set_option('display.max_columns', None)"
   ]
  },
  {
   "cell_type": "code",
   "execution_count": null,
   "id": "9cc05a37",
   "metadata": {},
   "outputs": [],
   "source": [
    "# dimensões do dataset\n",
    "df.shape"
   ]
  },
  {
   "cell_type": "code",
   "execution_count": null,
   "id": "2ab0f111",
   "metadata": {},
   "outputs": [],
   "source": [
    "# colunas do dataset\n",
    "df.columns"
   ]
  },
  {
   "cell_type": "code",
   "execution_count": null,
   "id": "b9be6968",
   "metadata": {},
   "outputs": [],
   "source": [
    "# amostras das primeiras linhas \n",
    "df.head() "
   ]
  },
  {
   "cell_type": "code",
   "execution_count": null,
   "id": "aba30964",
   "metadata": {},
   "outputs": [],
   "source": [
    "# amostras das últimas linhas\n",
    "df.tail()"
   ]
  },
  {
   "cell_type": "code",
   "execution_count": null,
   "id": "26891ff4",
   "metadata": {},
   "outputs": [],
   "source": [
    "# ordenando as datas\n",
    "df.sort_values('data_inversa')"
   ]
  },
  {
   "cell_type": "code",
   "execution_count": null,
   "id": "ebbce81b",
   "metadata": {},
   "outputs": [],
   "source": [
    "# valores ausentes\n",
    "ausentes = df.isnull().sum()\n",
    "ausentes.sort_values(ascending=False)"
   ]
  },
  {
   "cell_type": "code",
   "execution_count": null,
   "id": "02347925",
   "metadata": {},
   "outputs": [],
   "source": [
    "# total de acidentes\n",
    "acidentes = df['id'].count()\n",
    "print(f\"Total de acidentes em 2021:\",acidentes)"
   ]
  },
  {
   "cell_type": "code",
   "execution_count": null,
   "id": "cbba3e8a",
   "metadata": {},
   "outputs": [],
   "source": [
    "# valores estatísticos básicos\n",
    "df.describe()\n",
    "#count -> total registros\n",
    "#mean -> média\n",
    "#std -> desvio padrão\n",
    "#min -> valor mínimo encontrado\n",
    "#25% \n",
    "#50% -> pode se dizer a mediana\n",
    "#75%\n",
    "#max -> valor máximo encontrado"
   ]
  },
  {
   "cell_type": "code",
   "execution_count": null,
   "id": "06783076",
   "metadata": {},
   "outputs": [],
   "source": [
    "# soma do total de ilesos\n",
    "ilesos = df['ilesos'].sum()\n",
    "print(f\"Total de ilesos:\",ilesos)"
   ]
  },
  {
   "cell_type": "code",
   "execution_count": null,
   "id": "a3fe6881",
   "metadata": {},
   "outputs": [],
   "source": [
    "# soma do total de feridos leves \n",
    "feridosleves = df['feridos_leves'].sum()\n",
    "print(f\"Total de feridos leves:\",feridosleves)"
   ]
  },
  {
   "cell_type": "code",
   "execution_count": null,
   "id": "4c1193e4",
   "metadata": {},
   "outputs": [],
   "source": [
    "# soma do total de feridos graves \n",
    "feridosgraves = df['feridos_graves'].sum()\n",
    "print(f\"Total de feridos graves:\",feridosgraves)"
   ]
  },
  {
   "cell_type": "code",
   "execution_count": null,
   "id": "0539e228",
   "metadata": {},
   "outputs": [],
   "source": [
    "# soma do total de mortos \n",
    "mortos = df['mortos'].sum()\n",
    "print(f\"Total de mortos:\",mortos)"
   ]
  },
  {
   "cell_type": "code",
   "execution_count": null,
   "id": "7d8281f2",
   "metadata": {},
   "outputs": [],
   "source": [
    "# agrupando acidentes por causa\n",
    "acidente = df.groupby(['causa_acidente']).size().sort_values(ascending=False)\n",
    "# Ranking 1ª ao 10ª\n",
    "principais_causas = acidente.head(10)\n",
    "principais_causas"
   ]
  },
  {
   "cell_type": "code",
   "execution_count": null,
   "id": "a3dc413d",
   "metadata": {},
   "outputs": [],
   "source": [
    "# gráfico principais causas de acidente\n",
    "import matplotlib.pyplot as plt\n",
    "principais_causas.plot(kind='bar', color='red')\n",
    "plt.xlabel('Causa do Acidente')\n",
    "plt.ylabel('Quantidade de Acidentes')\n",
    "plt.title('Acidentes x Principais Causas de Acidentes (Ranking 1ª a 10ª)')\n",
    "plt.show()"
   ]
  },
  {
   "cell_type": "code",
   "execution_count": null,
   "id": "613b30a4",
   "metadata": {},
   "outputs": [],
   "source": [
    "# filtrando registros por estado\n",
    "estado = df['uf'].value_counts()\n",
    "estado"
   ]
  },
  {
   "cell_type": "code",
   "execution_count": null,
   "id": "495aa61f",
   "metadata": {},
   "outputs": [],
   "source": [
    "# gráfico acidentes por estado\n",
    "import matplotlib.pyplot as plt\n",
    "estado.plot(kind='bar', color='red')\n",
    "plt.xlabel('Estado')\n",
    "plt.ylabel('Quantidade de Acidentes')\n",
    "plt.title('Acidentes x Estado')\n",
    "plt.show()"
   ]
  },
  {
   "cell_type": "code",
   "execution_count": null,
   "id": "b0f09921",
   "metadata": {},
   "outputs": [],
   "source": [
    "# agrupando os dados referente as rodovias\n",
    "qual_rodovia = df.groupby(by='br').sum()\n",
    "qual_rodovia"
   ]
  },
  {
   "cell_type": "code",
   "execution_count": null,
   "id": "569db965",
   "metadata": {},
   "outputs": [],
   "source": [
    "# soma de acidentes por rodovia (Ranking 1ª ao 10ª)\n",
    "br = df['br'].value_counts()\n",
    "br_dez_mais = br.head(10)\n",
    "br_dez_mais"
   ]
  },
  {
   "cell_type": "code",
   "execution_count": null,
   "id": "84f04208",
   "metadata": {},
   "outputs": [],
   "source": [
    "# gráfico acidentes por rodovia \n",
    "import matplotlib.pyplot as plt\n",
    "br_dez_mais.plot(kind='bar', color='red')\n",
    "plt.xlabel('Rodovia')\n",
    "plt.ylabel('Quantidade de Acidentes')\n",
    "plt.title('Acidentes x Rodovia (Ranking 1ª a 10ª)')\n",
    "plt.show()"
   ]
  },
  {
   "cell_type": "code",
   "execution_count": null,
   "id": "123d5d49",
   "metadata": {},
   "outputs": [],
   "source": [
    "# soma de óbitos por rodovia (Ranking 1ª ao 10ª)\n",
    "obitos_rodovia = qual_rodovia.groupby(by='br').sum()['mortos']\n",
    "ordem_obitos = obitos_rodovia.sort_values(ascending=False)\n",
    "dezmais = ordem_obitos.head(10)\n",
    "dezmais"
   ]
  },
  {
   "cell_type": "code",
   "execution_count": null,
   "id": "22584c81",
   "metadata": {},
   "outputs": [],
   "source": [
    "# gráfico mortos por rodovia \n",
    "import matplotlib.pyplot as plt\n",
    "dezmais.plot(kind='bar', color='red')\n",
    "plt.xlabel('Rodovia')\n",
    "plt.ylabel('Quantidade de Mortos')\n",
    "plt.title('Mortos x Rodovia (Ranking 1ª a 10ª)')\n",
    "plt.show()"
   ]
  },
  {
   "cell_type": "code",
   "execution_count": null,
   "id": "d2ec412f",
   "metadata": {},
   "outputs": [],
   "source": [
    "# agrupando os dados referente aos estados\n",
    "qual_estado = df.groupby(by='uf').sum()\n",
    "qual_estado"
   ]
  },
  {
   "cell_type": "code",
   "execution_count": null,
   "id": "5f72bf1d",
   "metadata": {},
   "outputs": [],
   "source": [
    "# soma de óbitos por estado\n",
    "obitos = qual_estado.groupby(by='uf').sum()['mortos']\n",
    "obitos"
   ]
  },
  {
   "cell_type": "code",
   "execution_count": null,
   "id": "f73d666d",
   "metadata": {},
   "outputs": [],
   "source": [
    "# ordenando do maior para o menor mortos por estado\n",
    "mortos_ordem = obitos.sort_values(ascending=False)\n",
    "mortos_ordem"
   ]
  },
  {
   "cell_type": "code",
   "execution_count": null,
   "id": "6cec32bd",
   "metadata": {},
   "outputs": [],
   "source": [
    "# gráfico mortos por estado\n",
    "import matplotlib.pyplot as plt\n",
    "mortos_ordem.plot(kind='bar', color='red')\n",
    "plt.xlabel('Estado')\n",
    "plt.ylabel('Quantidade de Mortos')\n",
    "plt.title('Mortos x Estado')\n",
    "plt.show()"
   ]
  },
  {
   "cell_type": "code",
   "execution_count": null,
   "id": "3c21b9e5",
   "metadata": {},
   "outputs": [],
   "source": [
    "sexo = df['sexo'].value_counts()\n",
    "sexo"
   ]
  },
  {
   "cell_type": "code",
   "execution_count": null,
   "id": "e404ae70",
   "metadata": {},
   "outputs": [],
   "source": [
    "# gráfico do percentual de acidentes por sexo\n",
    "plt.figure(figsize=(7, 5))\n",
    "sexo.plot.pie(fontsize=14, autopct='%0.1f%%', labeldistance=None, radius=1)\n",
    "plt.title('Percentual de Acidentes por Sexo', pad=10, fontsize=15)\n",
    "plt.legend(['Masculino','Feminino','Não Informado','Ignorado'],loc='upper right', bbox_to_anchor=(1.3,1) )\n",
    "plt.ylabel('')\n",
    "plt.show()"
   ]
  },
  {
   "cell_type": "code",
   "execution_count": null,
   "id": "e7ca45b7",
   "metadata": {},
   "outputs": [],
   "source": [
    "# agrupando óbitos por sexo\n",
    "mortos_por_sexo = df.groupby(by='sexo').sum()['mortos']\n",
    "mortos_por_sexo\n",
    "sexo_mortos = mortos_por_sexo.sort_values(ascending=False)\n",
    "sexo_mortos"
   ]
  },
  {
   "cell_type": "code",
   "execution_count": null,
   "id": "0f686527",
   "metadata": {},
   "outputs": [],
   "source": [
    "# gráfico do percentual de mortos por sexo\n",
    "plt.figure(figsize=(7, 5))\n",
    "sexo_mortos.plot.pie(fontsize=14, autopct='%0.0f%%', labeldistance=None, radius=1)\n",
    "plt.title('Percentual de Mortos por Sexo', pad=10, fontsize=15)\n",
    "plt.legend(['Masculino','Feminino'],loc='upper right', bbox_to_anchor=(1.1,1) )\n",
    "plt.ylabel('')\n",
    "plt.show()"
   ]
  },
  {
   "cell_type": "code",
   "execution_count": null,
   "id": "e12ab000",
   "metadata": {},
   "outputs": [],
   "source": [
    "# filtrando acidentes por classificação\n",
    "class_acidente = df['classificacao_acidente'].value_counts()\n",
    "class_acidente"
   ]
  },
  {
   "cell_type": "code",
   "execution_count": null,
   "id": "b86ebd8a",
   "metadata": {},
   "outputs": [],
   "source": [
    "# gráfico do percentual de acidentes por classificação\n",
    "plt.figure(figsize=(7, 5))\n",
    "class_acidente.plot.pie(fontsize=14, autopct='%0.0f%%', labeldistance=None, radius=1)\n",
    "plt.title('Percentual de Acidentes por Classificação do Acidente', pad=10, fontsize=15)\n",
    "plt.legend(['Com Vítimas Feridas','Com Vítimas Fatais','Sem Vítimas'],loc='upper right', bbox_to_anchor=(1.3,1) )\n",
    "plt.ylabel('')\n",
    "plt.show()"
   ]
  },
  {
   "cell_type": "code",
   "execution_count": null,
   "id": "40262c34",
   "metadata": {},
   "outputs": [],
   "source": [
    "# agrupando os registros de acidentes por condições meteorológicas\n",
    "tmp = df.groupby(by='condicao_metereologica').count()['id']"
   ]
  },
  {
   "cell_type": "code",
   "execution_count": null,
   "id": "9f7b14ea",
   "metadata": {},
   "outputs": [],
   "source": [
    "# ordenando os resgistros do maior para o menor\n",
    "tempo = tmp.sort_values(ascending=False)\n",
    "tempo"
   ]
  },
  {
   "cell_type": "code",
   "execution_count": null,
   "id": "83ecc2cc",
   "metadata": {},
   "outputs": [],
   "source": [
    "# gráfico de acidentes por condição meteorológica\n",
    "tempo.plot(kind='barh',color='red')\n",
    "plt.xlabel('Quantidade de Acidentes')\n",
    "plt.ylabel('Condição Meteorológica')\n",
    "plt.title('Acidentes x Condição Meteorológica')\n",
    "plt.show()"
   ]
  },
  {
   "cell_type": "code",
   "execution_count": null,
   "id": "339c75cc",
   "metadata": {},
   "outputs": [],
   "source": [
    "# filtrando registros por tipo de pista\n",
    "tipo_pista = df['tipo_pista'].value_counts()\n",
    "tipo_pista"
   ]
  },
  {
   "cell_type": "code",
   "execution_count": null,
   "id": "b9d3ed42",
   "metadata": {},
   "outputs": [],
   "source": [
    "# gráfico do percentual de acidentes por tipo de pista\n",
    "plt.figure(figsize=(7, 5))\n",
    "tipo_pista.plot.pie(fontsize=14, autopct='%0.0f%%', labeldistance=None, radius=1)\n",
    "plt.title('Percentual de Acidentes por Tipo de Pista', pad=10, fontsize=15)\n",
    "plt.legend(['Simples','Dupla','Múltipla',],loc='upper right', bbox_to_anchor=(1.1,1) )\n",
    "plt.ylabel('')\n",
    "plt.show()"
   ]
  },
  {
   "cell_type": "code",
   "execution_count": null,
   "id": "12409704",
   "metadata": {},
   "outputs": [],
   "source": [
    "# filtrando registros por tipo de acidente\n",
    "tipo_ac = df['tipo_acidente'].value_counts()\n",
    "tipo_ac"
   ]
  },
  {
   "cell_type": "code",
   "execution_count": null,
   "id": "edfd3d89",
   "metadata": {},
   "outputs": [],
   "source": [
    "# gráfico acidentes por tipo acidente\n",
    "tipo_ac.plot(kind='bar',color='red')\n",
    "plt.xlabel('Tipo Acidente')\n",
    "plt.ylabel('Quantidade de Acidentes')\n",
    "plt.title('Acidentes x Tipo Acidente')\n",
    "plt.show()"
   ]
  },
  {
   "cell_type": "code",
   "execution_count": null,
   "id": "0dfc860e",
   "metadata": {},
   "outputs": [],
   "source": [
    "# agrupando óbitos por tipo de acidente\n",
    "tipo = df.groupby(by='tipo_acidente').sum()['mortos']"
   ]
  },
  {
   "cell_type": "code",
   "execution_count": null,
   "id": "4ba89650",
   "metadata": {},
   "outputs": [],
   "source": [
    "# ordenando número de óbitos por tipo de acidente do maior para o menor\n",
    "tipo_ordem = tipo.sort_values(ascending=False)\n",
    "tipo_ordem"
   ]
  },
  {
   "cell_type": "code",
   "execution_count": null,
   "id": "edf717e2",
   "metadata": {},
   "outputs": [],
   "source": [
    "# gráfico mortos por tipo acidente\n",
    "tipo_ordem.plot(kind='bar',color='red')\n",
    "plt.xlabel('Tipo Acidente')\n",
    "plt.ylabel('Quantidade de Mortos')\n",
    "plt.title('Mortos x Tipo Acidente')\n",
    "plt.show()"
   ]
  },
  {
   "cell_type": "code",
   "execution_count": null,
   "id": "27aad258",
   "metadata": {},
   "outputs": [],
   "source": [
    "# filtrando resgistro por dia da semana\n",
    "dia_semana = df['dia_semana'].value_counts()\n",
    "dia_semana"
   ]
  },
  {
   "cell_type": "code",
   "execution_count": null,
   "id": "977f6abe",
   "metadata": {},
   "outputs": [],
   "source": [
    "# gráfico registro de acidentes por dia da semana\n",
    "dia_semana.plot(kind='bar',color='red')\n",
    "plt.xlabel('Dia da Semana')\n",
    "plt.ylabel('Quantidade de Acidentes')\n",
    "plt.title('Acidentes x Dia da Semana')\n",
    "plt.show()"
   ]
  },
  {
   "cell_type": "code",
   "execution_count": null,
   "id": "e52337b5",
   "metadata": {},
   "outputs": [],
   "source": [
    "# agrupando óbitos por dia da semana\n",
    "dia = df.groupby(by='dia_semana').sum()['mortos']\n",
    "dia"
   ]
  },
  {
   "cell_type": "code",
   "execution_count": null,
   "id": "082fae7a",
   "metadata": {},
   "outputs": [],
   "source": [
    "# ordenando os registros do maior para o menor\n",
    "dia_semana = dia.sort_values(ascending=False)\n",
    "dia_semana"
   ]
  },
  {
   "cell_type": "code",
   "execution_count": null,
   "id": "a51f79af",
   "metadata": {},
   "outputs": [],
   "source": [
    "# gráfico mortos por dia da semana\n",
    "dia_semana.plot(kind='bar',color='red')\n",
    "plt.xlabel('Dia da Semana')\n",
    "plt.ylabel('Quantidade de Óbitos')\n",
    "plt.title('Mortos x Dia da Semana')\n",
    "plt.show()"
   ]
  },
  {
   "cell_type": "code",
   "execution_count": null,
   "id": "7ae5b8b0",
   "metadata": {},
   "outputs": [],
   "source": [
    "# filtrando registros por tipo de veículo\n",
    "veiculos = df['tipo_veiculo'].value_counts()\n",
    "veiculos"
   ]
  },
  {
   "cell_type": "code",
   "execution_count": null,
   "id": "136807e6",
   "metadata": {},
   "outputs": [],
   "source": [
    "# gráfico acidentes por tipo de veículo\n",
    "veiculos.plot(kind='bar',color='red')\n",
    "plt.xlabel('Tipo de Veículo')\n",
    "plt.ylabel('Quantidade de Acidentes')\n",
    "plt.title('Acidentes x Tipo de Veículo')\n",
    "plt.show()"
   ]
  },
  {
   "cell_type": "code",
   "execution_count": null,
   "id": "08ce9e3d",
   "metadata": {},
   "outputs": [],
   "source": [
    "# agrupando óbitos por tipo de veículo\n",
    "tipo = df.groupby(by='tipo_veiculo').sum()['mortos']\n",
    "tipo_v = tipo.sort_values(ascending=False)\n",
    "tipo_v"
   ]
  },
  {
   "cell_type": "code",
   "execution_count": null,
   "id": "14ddbe7a",
   "metadata": {},
   "outputs": [],
   "source": [
    "# gráfico mortos por tipo de veículo\n",
    "tipo_v.plot(kind='bar',color='red')\n",
    "plt.xlabel('Tipo de Veículo')\n",
    "plt.ylabel('Quantidade de Óbitos')\n",
    "plt.title('Mortos x Tipo de Veículo')\n",
    "plt.show()"
   ]
  },
  {
   "cell_type": "code",
   "execution_count": null,
   "id": "4453a65b",
   "metadata": {},
   "outputs": [],
   "source": []
  }
 ],
 "metadata": {
  "kernelspec": {
   "display_name": "Python 3 (ipykernel)",
   "language": "python",
   "name": "python3"
  },
  "language_info": {
   "codemirror_mode": {
    "name": "ipython",
    "version": 3
   },
   "file_extension": ".py",
   "mimetype": "text/x-python",
   "name": "python",
   "nbconvert_exporter": "python",
   "pygments_lexer": "ipython3",
   "version": "3.9.13"
  }
 },
 "nbformat": 4,
 "nbformat_minor": 5
}
